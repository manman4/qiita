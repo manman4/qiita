{
 "cells": [
  {
   "attachments": {},
   "cell_type": "markdown",
   "metadata": {},
   "source": [
    "# データ取り込み"
   ]
  },
  {
   "cell_type": "code",
   "execution_count": 1,
   "metadata": {},
   "outputs": [],
   "source": [
    "import pandas as pd\n",
    "from collections import Counter\n",
    "\n",
    "# strippedファイルの５行目から\n",
    "df = pd.read_csv('stripped', skiprows=4, header=None, delim_whitespace=True,\n",
    "                names=['A_number', 'seq_str'])"
   ]
  },
  {
   "cell_type": "code",
   "execution_count": 2,
   "metadata": {},
   "outputs": [],
   "source": [
    "def modify_seq(row):\n",
    "    numbers = [int(num) for num in row.split(',') if num.strip()]  # 空の文字列を除外\n",
    "    return numbers\n",
    "\n",
    "df['seq'] = df['seq_str'].apply(modify_seq)"
   ]
  },
  {
   "cell_type": "code",
   "execution_count": 3,
   "metadata": {},
   "outputs": [
    {
     "name": "stdout",
     "output_type": "stream",
     "text": [
      "[20990, 22978, 23543, 23735, 24085, 24159, 24555, 26301, 26673, 26708]\n"
     ]
    }
   ],
   "source": [
    "def find_missing_positve_integers(a_list, num_missing):\n",
    "    a_set = set(a_list)\n",
    "\n",
    "    missing_integers = []\n",
    "    num = 1\n",
    "    while len(missing_integers) < num_missing:\n",
    "        if num not in a_set:\n",
    "            missing_integers.append(num)\n",
    "        num += 1\n",
    "\n",
    "    return missing_integers\n",
    "\n",
    "def interesting_num(column):\n",
    "    all_integers = [integer for row in column for integer in row]\n",
    "    # 出現するkeyを取得\n",
    "    return Counter(all_integers).keys()\n",
    "\n",
    "\n",
    "interesting_integers = interesting_num(df['seq'])\n",
    "print(find_missing_positve_integers(interesting_integers, 10))"
   ]
  }
 ],
 "metadata": {
  "kernelspec": {
   "display_name": "base",
   "language": "python",
   "name": "python3"
  },
  "language_info": {
   "codemirror_mode": {
    "name": "ipython",
    "version": 3
   },
   "file_extension": ".py",
   "mimetype": "text/x-python",
   "name": "python",
   "nbconvert_exporter": "python",
   "pygments_lexer": "ipython3",
   "version": "3.11.5"
  }
 },
 "nbformat": 4,
 "nbformat_minor": 2
}

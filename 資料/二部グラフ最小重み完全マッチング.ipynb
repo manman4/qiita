{
 "cells": [
  {
   "cell_type": "code",
   "execution_count": 202,
   "metadata": {},
   "outputs": [
    {
     "name": "stdout",
     "output_type": "stream",
     "text": [
      "最小重み完全マッチング: {1: 4, 2: 6, 3: 5, 4: 1, 6: 2, 5: 3}\n",
      "実行時間: 0.008939981460571289 秒\n"
     ]
    }
   ],
   "source": [
    "import networkx as nx\n",
    "import time\n",
    "\n",
    "# 二部グラフを作成\n",
    "G = nx.Graph()\n",
    "\n",
    "# 左の頂点集合を追加\n",
    "left_nodes = [1, 2, 3]\n",
    "G.add_nodes_from(left_nodes, bipartite=0)\n",
    "\n",
    "# 右の頂点集合を追加\n",
    "right_nodes = [4, 5, 6]\n",
    "G.add_nodes_from(right_nodes, bipartite=1)\n",
    "\n",
    "# 重み付きエッジを追加\n",
    "edges = [(1, 4, {'weight': 4}),\n",
    "         (1, 5, {'weight': 2}),\n",
    "         (2, 4, {'weight': 5}),\n",
    "         (2, 6, {'weight': 1}),\n",
    "         (3, 5, {'weight': 3}),\n",
    "         (3, 6, {'weight': 7})]\n",
    "G.add_edges_from(edges)\n",
    "\n",
    "# 時間計測開始\n",
    "start_time = time.time()\n",
    "\n",
    "# 二部グラフの最小重み完全マッチングを求める\n",
    "matching = nx.bipartite.minimum_weight_full_matching(G, weight='weight')\n",
    "\n",
    "# 時間計測終了\n",
    "end_time = time.time()\n",
    "\n",
    "# 結果を表示\n",
    "print(\"最小重み完全マッチング:\", matching)\n",
    "print(\"実行時間:\", end_time - start_time, \"秒\")\n"
   ]
  },
  {
   "cell_type": "code",
   "execution_count": 203,
   "metadata": {},
   "outputs": [
    {
     "name": "stdout",
     "output_type": "stream",
     "text": [
      "最小重みマッチング: {(5, 3), (6, 2), (4, 1)}\n",
      "実行時間: 0.0004668235778808594 秒\n"
     ]
    }
   ],
   "source": [
    "import networkx as nx\n",
    "import time\n",
    "\n",
    "# グラフを作成\n",
    "G = nx.Graph()\n",
    "\n",
    "# 重み付きエッジを追加\n",
    "edges = [(1, 4, {'weight': 4}),\n",
    "         (1, 5, {'weight': 2}),\n",
    "         (2, 4, {'weight': 5}),\n",
    "         (2, 6, {'weight': 1}),\n",
    "         (3, 5, {'weight': 3}),\n",
    "         (4, 6, {'weight': 7})]\n",
    "G.add_edges_from(edges)\n",
    "\n",
    "# 時間計測開始\n",
    "start_time = time.time()\n",
    "\n",
    "# 最大重みマッチングを求める\n",
    "matching = nx.algorithms.max_weight_matching(G, weight='weight', maxcardinality=True)\n",
    "\n",
    "# 時間計測終了\n",
    "end_time = time.time()\n",
    "\n",
    "# 結果を表示\n",
    "print(\"最小重みマッチング:\", matching)\n",
    "print(\"実行時間:\", end_time - start_time, \"秒\")\n"
   ]
  },
  {
   "cell_type": "code",
   "execution_count": 204,
   "metadata": {},
   "outputs": [],
   "source": [
    "import networkx as nx\n",
    "import time\n",
    "\n",
    "def matching(edges):\n",
    "    # グラフを作成\n",
    "    G = nx.Graph()\n",
    "\n",
    "    # 重み付きエッジを追加\n",
    "    G.add_edges_from(edges)\n",
    "\n",
    "    # 時間計測開始\n",
    "    start_time = time.time()\n",
    "\n",
    "    # 最小重み最大マッチングを求める\n",
    "    matching = nx.algorithms.matching.min_weight_matching(G, weight='weight')\n",
    "\n",
    "    # 時間計測終了\n",
    "    end_time = time.time()\n",
    "\n",
    "    # マッチングとその総重みを表示\n",
    "    total_weight = sum(G[u][v]['weight'] for u, v in matching)\n",
    "    print(\"最小重み最大マッチング:\", matching)\n",
    "    print(\"総重み:\", total_weight)\n",
    "    print(\"実行時間:\", end_time - start_time, \"秒\")\n"
   ]
  },
  {
   "cell_type": "code",
   "execution_count": 205,
   "metadata": {},
   "outputs": [],
   "source": [
    "def matching_bipartite(edges):\n",
    "    # 重複なしの1つ目の要素を取得\n",
    "    unique_first_elements = list(set(edge[0] for edge in edges))\n",
    "    # 重複なしの2つ目の要素を取得\n",
    "    unique_second_elements = list(set(edge[1] for edge in edges))\n",
    "\n",
    "    # 二部グラフを作成\n",
    "    G_bipartite = nx.Graph()\n",
    "\n",
    "    # 左の頂点集合を追加\n",
    "    left_nodes = unique_first_elements\n",
    "    G_bipartite.add_nodes_from(left_nodes, bipartite=0)\n",
    "\n",
    "    # 右の頂点集合を追加\n",
    "    right_nodes = unique_second_elements\n",
    "    G_bipartite.add_nodes_from(right_nodes, bipartite=1)\n",
    "\n",
    "    # 重み付きエッジを追加\n",
    "    G_bipartite.add_edges_from(edges)\n",
    "\n",
    "    # 時間計測開始\n",
    "    start_time_bipartite = time.time()\n",
    "\n",
    "    # 二部グラフの最小重み完全マッチングを求める\n",
    "    matching_bipartite = nx.bipartite.minimum_weight_full_matching(G_bipartite).items()\n",
    "\n",
    "    # 時間計測終了\n",
    "    end_time_bipartite = time.time()\n",
    "\n",
    "    # https://stackoverflow.com/questions/73533607/is-there-a-way-to-return-the-edges-used-in-a-minimum-weight-matching-on-a-bipart\n",
    "\n",
    "    weight = sum(\n",
    "        G_bipartite.edges[u, v]['weight']\n",
    "        for u, v in matching_bipartite\n",
    "    ) // 2\n",
    "    print(\"重みの和:\", weight)\n",
    "\n",
    "    # 結果を表示\n",
    "    print(\"二部グラフの最小重み完全マッチング:\", matching_bipartite)\n",
    "    # print(\"重みの和:\", total_weight)\n",
    "    print(\"実行時間:\", end_time_bipartite - start_time_bipartite, \"秒\")\n"
   ]
  },
  {
   "cell_type": "code",
   "execution_count": 206,
   "metadata": {},
   "outputs": [],
   "source": [
    "edges0 = [(1, 4, {'weight': 4}),\n",
    "         (1, 5, {'weight': 2}),\n",
    "         (2, 4, {'weight': 5}),\n",
    "         (2, 6, {'weight': 1}),\n",
    "         (3, 5, {'weight': 3}),\n",
    "         (3, 6, {'weight': 7})]"
   ]
  },
  {
   "cell_type": "code",
   "execution_count": 207,
   "metadata": {},
   "outputs": [],
   "source": [
    "edges1 = [(1, 10, {'weight': 4}),\n",
    "         (1, 11, {'weight': 2}),\n",
    "         (2, 10, {'weight': 5}),\n",
    "         (2, 12, {'weight': 1}),\n",
    "         (3, 11, {'weight': 3}),\n",
    "         (3, 12, {'weight': 7}),\n",
    "         (4, 10, {'weight': 7}),\n",
    "         (4, 12, {'weight': 4}),\n",
    "         (5, 10, {'weight': 7}),\n",
    "         (5, 13, {'weight': 3}),\n",
    "         ]"
   ]
  },
  {
   "cell_type": "code",
   "execution_count": 208,
   "metadata": {},
   "outputs": [],
   "source": [
    "import random\n",
    "\n",
    "def generate_random_bipartite_graph(nodes_part1, nodes_part2, min_weight, max_weight):\n",
    "    edges = []\n",
    "    \n",
    "    for node1 in nodes_part1:\n",
    "        for node2 in nodes_part2:\n",
    "            weight = random.randint(min_weight, max_weight)\n",
    "            edges.append((node1, node2, {'weight': weight}))\n",
    "    \n",
    "    return edges"
   ]
  },
  {
   "cell_type": "code",
   "execution_count": 209,
   "metadata": {},
   "outputs": [
    {
     "name": "stdout",
     "output_type": "stream",
     "text": [
      "[(1, 11, {'weight': 9}), (1, 12, {'weight': 9}), (1, 13, {'weight': 5}), (1, 14, {'weight': 4}), (1, 15, {'weight': 1}), (1, 16, {'weight': 1}), (1, 17, {'weight': 10}), (1, 18, {'weight': 9}), (1, 19, {'weight': 4}), (2, 11, {'weight': 10}), (2, 12, {'weight': 4}), (2, 13, {'weight': 8}), (2, 14, {'weight': 10}), (2, 15, {'weight': 3}), (2, 16, {'weight': 2}), (2, 17, {'weight': 6}), (2, 18, {'weight': 3}), (2, 19, {'weight': 1}), (3, 11, {'weight': 7}), (3, 12, {'weight': 7}), (3, 13, {'weight': 7}), (3, 14, {'weight': 5}), (3, 15, {'weight': 7}), (3, 16, {'weight': 5}), (3, 17, {'weight': 6}), (3, 18, {'weight': 8}), (3, 19, {'weight': 4}), (4, 11, {'weight': 7}), (4, 12, {'weight': 9}), (4, 13, {'weight': 5}), (4, 14, {'weight': 6}), (4, 15, {'weight': 9}), (4, 16, {'weight': 8}), (4, 17, {'weight': 10}), (4, 18, {'weight': 1}), (4, 19, {'weight': 7}), (5, 11, {'weight': 3}), (5, 12, {'weight': 4}), (5, 13, {'weight': 8}), (5, 14, {'weight': 7}), (5, 15, {'weight': 1}), (5, 16, {'weight': 8}), (5, 17, {'weight': 6}), (5, 18, {'weight': 9}), (5, 19, {'weight': 5}), (6, 11, {'weight': 3}), (6, 12, {'weight': 1}), (6, 13, {'weight': 8}), (6, 14, {'weight': 7}), (6, 15, {'weight': 6}), (6, 16, {'weight': 8}), (6, 17, {'weight': 4}), (6, 18, {'weight': 8}), (6, 19, {'weight': 10}), (7, 11, {'weight': 7}), (7, 12, {'weight': 1}), (7, 13, {'weight': 7}), (7, 14, {'weight': 3}), (7, 15, {'weight': 3}), (7, 16, {'weight': 6}), (7, 17, {'weight': 1}), (7, 18, {'weight': 6}), (7, 19, {'weight': 2}), (8, 11, {'weight': 3}), (8, 12, {'weight': 6}), (8, 13, {'weight': 7}), (8, 14, {'weight': 5}), (8, 15, {'weight': 10}), (8, 16, {'weight': 6}), (8, 17, {'weight': 5}), (8, 18, {'weight': 8}), (8, 19, {'weight': 8}), (9, 11, {'weight': 8}), (9, 12, {'weight': 5}), (9, 13, {'weight': 8}), (9, 14, {'weight': 2}), (9, 15, {'weight': 5}), (9, 16, {'weight': 3}), (9, 17, {'weight': 6}), (9, 18, {'weight': 2}), (9, 19, {'weight': 6})]\n"
     ]
    }
   ],
   "source": [
    "# 例として与えられたエッジのリストのノードを使用\n",
    "nodes_part1 = [1, 2, 3, 4, 5, 6, 7, 8, 9]\n",
    "nodes_part2 = [11, 12, 13, 14, 15, 16, 17, 18, 19]\n",
    "min_weight = 1\n",
    "max_weight = 10\n",
    "\n",
    "random_edges_1 = generate_random_bipartite_graph(nodes_part1, nodes_part2, min_weight, max_weight)\n",
    "\n",
    "# 結果の出力\n",
    "print(random_edges_1)"
   ]
  },
  {
   "cell_type": "code",
   "execution_count": 210,
   "metadata": {},
   "outputs": [
    {
     "name": "stdout",
     "output_type": "stream",
     "text": [
      "最小重み最大マッチング: {(5, 3), (6, 2), (1, 4)}\n",
      "総重み: 8\n",
      "実行時間: 0.00015282630920410156 秒\n",
      "最小重み最大マッチング: {(11, 3), (12, 2), (1, 10), (5, 13)}\n",
      "総重み: 11\n",
      "実行時間: 0.0001747608184814453 秒\n",
      "最小重み最大マッチング: {(5, 15), (7, 17), (2, 19), (3, 13), (12, 6), (4, 18), (14, 9), (11, 8), (16, 1)}\n",
      "総重み: 18\n",
      "実行時間: 0.0006923675537109375 秒\n",
      "重みの和: 8\n",
      "二部グラフの最小重み完全マッチング: dict_items([(1, 4), (2, 6), (3, 5), (4, 1), (6, 2), (5, 3)])\n",
      "実行時間: 0.00024175643920898438 秒\n",
      "重みの和: 11\n",
      "二部グラフの最小重み完全マッチング: dict_items([(1, 10), (2, 12), (3, 11), (5, 13), (10, 1), (12, 2), (11, 3), (13, 5)])\n",
      "実行時間: 0.00010609626770019531 秒\n",
      "重みの和: 18\n",
      "二部グラフの最小重み完全マッチング: dict_items([(1, 16), (2, 19), (3, 13), (4, 18), (5, 15), (6, 12), (7, 17), (8, 11), (9, 14), (16, 1), (19, 2), (13, 3), (18, 4), (15, 5), (12, 6), (17, 7), (11, 8), (14, 9)])\n",
      "実行時間: 0.00013113021850585938 秒\n"
     ]
    }
   ],
   "source": [
    "matching(edges0)\n",
    "matching(edges1)\n",
    "matching(random_edges_1)\n",
    "\n",
    "matching_bipartite(edges0)\n",
    "matching_bipartite(edges1)\n",
    "matching_bipartite(random_edges_1)"
   ]
  },
  {
   "cell_type": "code",
   "execution_count": null,
   "metadata": {},
   "outputs": [],
   "source": []
  }
 ],
 "metadata": {
  "kernelspec": {
   "display_name": "opt",
   "language": "python",
   "name": "python3"
  },
  "language_info": {
   "codemirror_mode": {
    "name": "ipython",
    "version": 3
   },
   "file_extension": ".py",
   "mimetype": "text/x-python",
   "name": "python",
   "nbconvert_exporter": "python",
   "pygments_lexer": "ipython3",
   "version": "3.9.17"
  },
  "orig_nbformat": 4
 },
 "nbformat": 4,
 "nbformat_minor": 2
}

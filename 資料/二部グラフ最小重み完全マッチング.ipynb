{
 "cells": [
  {
   "cell_type": "code",
   "execution_count": 254,
   "metadata": {},
   "outputs": [],
   "source": [
    "import networkx as nx\n",
    "import time\n",
    "import random"
   ]
  },
  {
   "cell_type": "code",
   "execution_count": 255,
   "metadata": {},
   "outputs": [],
   "source": [
    "def matching(edges):\n",
    "    # グラフを作成\n",
    "    G = nx.Graph()\n",
    "\n",
    "    # 重み付きエッジを追加\n",
    "    G.add_edges_from(edges)\n",
    "\n",
    "    # 時間計測開始\n",
    "    start_time = time.time()\n",
    "\n",
    "    # 最小重み最大マッチングを求める\n",
    "    matching = nx.algorithms.matching.min_weight_matching(G, weight='weight')\n",
    "\n",
    "    # 時間計測終了\n",
    "    end_time = time.time()\n",
    "\n",
    "    # マッチングとその総重みを表示\n",
    "    total_weight = sum(G[u][v]['weight'] for u, v in matching)\n",
    "    print(\"最小重み最大マッチング:\", matching)\n",
    "    print(\"総重み:\", total_weight)\n",
    "    print(\"実行時間:\", end_time - start_time, \"秒\")\n"
   ]
  },
  {
   "cell_type": "code",
   "execution_count": 256,
   "metadata": {},
   "outputs": [],
   "source": [
    "def matching_bipartite(edges):\n",
    "    # 重複なしの1つ目の要素を取得\n",
    "    unique_first_elements = list(set(edge[0] for edge in edges))\n",
    "    # 重複なしの2つ目の要素を取得\n",
    "    unique_second_elements = list(set(edge[1] for edge in edges))\n",
    "\n",
    "    # 二部グラフを作成\n",
    "    G_bipartite = nx.Graph()\n",
    "\n",
    "    # 左の頂点集合を追加\n",
    "    left_nodes = unique_first_elements\n",
    "    G_bipartite.add_nodes_from(left_nodes, bipartite=0)\n",
    "\n",
    "    # 右の頂点集合を追加\n",
    "    right_nodes = unique_second_elements\n",
    "    G_bipartite.add_nodes_from(right_nodes, bipartite=1)\n",
    "\n",
    "    # 重み付きエッジを追加\n",
    "    G_bipartite.add_edges_from(edges)\n",
    "\n",
    "    # 時間計測開始\n",
    "    start_time_bipartite = time.time()\n",
    "\n",
    "    # 二部グラフの最小重み完全マッチングを求める\n",
    "    matching_bipartite = nx.bipartite.minimum_weight_full_matching(G_bipartite).items()\n",
    "\n",
    "    # 時間計測終了\n",
    "    end_time_bipartite = time.time()\n",
    "\n",
    "    # https://stackoverflow.com/questions/73533607/is-there-a-way-to-return-the-edges-used-in-a-minimum-weight-matching-on-a-bipart\n",
    "\n",
    "    weight = sum(\n",
    "        G_bipartite.edges[u, v]['weight']\n",
    "        for u, v in matching_bipartite\n",
    "    ) // 2\n",
    "    print(\"重みの和:\", weight)\n",
    "\n",
    "    # 結果を表示\n",
    "    print(\"二部グラフの最小重み完全マッチング:\", matching_bipartite)\n",
    "    # print(\"重みの和:\", total_weight)\n",
    "    print(\"実行時間:\", end_time_bipartite - start_time_bipartite, \"秒\")\n"
   ]
  },
  {
   "cell_type": "code",
   "execution_count": 257,
   "metadata": {},
   "outputs": [],
   "source": [
    "def generate_random_bipartite_graph(nodes_part1, nodes_part2, min_weight, max_weight):\n",
    "    edges = []\n",
    "    \n",
    "    for node1 in nodes_part1:\n",
    "        for node2 in nodes_part2:\n",
    "            weight = random.randint(min_weight, max_weight)\n",
    "            edges.append((node1, node2, {'weight': weight}))\n",
    "    \n",
    "    return edges"
   ]
  },
  {
   "cell_type": "code",
   "execution_count": 258,
   "metadata": {},
   "outputs": [
    {
     "name": "stdout",
     "output_type": "stream",
     "text": [
      "[(1, 11, {'weight': 3}), (1, 12, {'weight': 3}), (1, 13, {'weight': 7}), (1, 14, {'weight': 4}), (1, 15, {'weight': 2}), (1, 16, {'weight': 2}), (1, 17, {'weight': 1}), (1, 18, {'weight': 3}), (1, 19, {'weight': 8}), (1, 20, {'weight': 3}), (2, 11, {'weight': 10}), (2, 12, {'weight': 6}), (2, 13, {'weight': 7}), (2, 14, {'weight': 4}), (2, 15, {'weight': 1}), (2, 16, {'weight': 7}), (2, 17, {'weight': 4}), (2, 18, {'weight': 6}), (2, 19, {'weight': 1}), (2, 20, {'weight': 7}), (3, 11, {'weight': 1}), (3, 12, {'weight': 10}), (3, 13, {'weight': 4}), (3, 14, {'weight': 8}), (3, 15, {'weight': 3}), (3, 16, {'weight': 2}), (3, 17, {'weight': 4}), (3, 18, {'weight': 6}), (3, 19, {'weight': 4}), (3, 20, {'weight': 10}), (4, 11, {'weight': 7}), (4, 12, {'weight': 3}), (4, 13, {'weight': 2}), (4, 14, {'weight': 9}), (4, 15, {'weight': 1}), (4, 16, {'weight': 1}), (4, 17, {'weight': 8}), (4, 18, {'weight': 10}), (4, 19, {'weight': 9}), (4, 20, {'weight': 2}), (5, 11, {'weight': 2}), (5, 12, {'weight': 7}), (5, 13, {'weight': 4}), (5, 14, {'weight': 7}), (5, 15, {'weight': 2}), (5, 16, {'weight': 10}), (5, 17, {'weight': 9}), (5, 18, {'weight': 7}), (5, 19, {'weight': 1}), (5, 20, {'weight': 8}), (6, 11, {'weight': 6}), (6, 12, {'weight': 1}), (6, 13, {'weight': 8}), (6, 14, {'weight': 7}), (6, 15, {'weight': 8}), (6, 16, {'weight': 9}), (6, 17, {'weight': 4}), (6, 18, {'weight': 10}), (6, 19, {'weight': 5}), (6, 20, {'weight': 7}), (7, 11, {'weight': 2}), (7, 12, {'weight': 1}), (7, 13, {'weight': 10}), (7, 14, {'weight': 3}), (7, 15, {'weight': 1}), (7, 16, {'weight': 5}), (7, 17, {'weight': 10}), (7, 18, {'weight': 8}), (7, 19, {'weight': 5}), (7, 20, {'weight': 6}), (8, 11, {'weight': 4}), (8, 12, {'weight': 8}), (8, 13, {'weight': 10}), (8, 14, {'weight': 8}), (8, 15, {'weight': 4}), (8, 16, {'weight': 9}), (8, 17, {'weight': 9}), (8, 18, {'weight': 8}), (8, 19, {'weight': 6}), (8, 20, {'weight': 4}), (9, 11, {'weight': 3}), (9, 12, {'weight': 3}), (9, 13, {'weight': 6}), (9, 14, {'weight': 1}), (9, 15, {'weight': 9}), (9, 16, {'weight': 4}), (9, 17, {'weight': 6}), (9, 18, {'weight': 8}), (9, 19, {'weight': 4}), (9, 20, {'weight': 6}), (10, 11, {'weight': 5}), (10, 12, {'weight': 3}), (10, 13, {'weight': 9}), (10, 14, {'weight': 5}), (10, 15, {'weight': 9}), (10, 16, {'weight': 6}), (10, 17, {'weight': 3}), (10, 18, {'weight': 2}), (10, 19, {'weight': 10}), (10, 20, {'weight': 2})]\n"
     ]
    }
   ],
   "source": [
    "min_weight = 1\n",
    "max_weight = 10\n",
    "\n",
    "nodes_part1 = [i for i in range(1, 11)]\n",
    "nodes_part2 = [i for i in range(11, 21)]\n",
    "random_edges_1 = generate_random_bipartite_graph(nodes_part1, nodes_part2, min_weight, max_weight)\n",
    "\n",
    "# 結果の出力\n",
    "print(random_edges_1)\n",
    "\n",
    "nodes_part3 = [i for i in range(1, 101)]\n",
    "nodes_part4 = [i for i in range(101, 201)]\n",
    "random_edges_2 = generate_random_bipartite_graph(nodes_part3, nodes_part4, min_weight, max_weight)"
   ]
  },
  {
   "cell_type": "code",
   "execution_count": 259,
   "metadata": {},
   "outputs": [
    {
     "name": "stdout",
     "output_type": "stream",
     "text": [
      "最小重み最大マッチング: {(4, 16), (17, 1), (18, 10), (8, 20), (5, 13), (12, 6), (9, 14), (7, 15), (19, 2), (3, 11)}\n",
      "総重み: 17\n",
      "実行時間: 0.0008220672607421875 秒\n",
      "最小重み最大マッチング: {(94, 110), (29, 194), (188, 4), (32, 165), (99, 109), (81, 112), (48, 127), (78, 116), (64, 126), (185, 16), (79, 108), (168, 9), (47, 155), (84, 107), (186, 8), (80, 152), (93, 118), (171, 1), (39, 147), (85, 132), (71, 115), (10, 193), (23, 166), (59, 125), (83, 146), (123, 17), (96, 103), (44, 163), (45, 137), (22, 199), (58, 140), (61, 136), (75, 135), (72, 111), (170, 6), (18, 183), (55, 177), (88, 101), (77, 128), (143, 36), (41, 153), (89, 117), (33, 158), (191, 3), (92, 119), (57, 161), (56, 141), (51, 175), (49, 157), (67, 169), (74, 195), (144, 28), (35, 176), (97, 105), (200, 2), (162, 27), (50, 167), (25, 156), (38, 159), (129, 69), (60, 134), (90, 114), (179, 15), (34, 164), (91, 106), (82, 192), (65, 151), (63, 133), (54, 130), (66, 113), (182, 7), (24, 180), (198, 12), (142, 53), (100, 102), (68, 131), (178, 21), (31, 139), (98, 104), (40, 160), (190, 13), (187, 5), (73, 120), (30, 149), (11, 154), (26, 172), (37, 148), (19, 197), (62, 122), (43, 145), (14, 173), (87, 124), (86, 189), (184, 20), (70, 181), (42, 174), (76, 196), (95, 121), (52, 150), (138, 46)}\n",
      "総重み: 100\n",
      "実行時間: 0.02863001823425293 秒\n",
      "重みの和: 17\n",
      "二部グラフの最小重み完全マッチング: dict_items([(1, 17), (2, 19), (3, 11), (4, 16), (5, 13), (6, 12), (7, 15), (8, 20), (9, 14), (10, 18), (17, 1), (19, 2), (11, 3), (16, 4), (13, 5), (12, 6), (15, 7), (20, 8), (14, 9), (18, 10)])\n",
      "実行時間: 0.0003178119659423828 秒\n",
      "重みの和: 100\n",
      "二部グラフの最小重み完全マッチング: dict_items([(1, 186), (2, 111), (3, 108), (4, 103), (5, 114), (6, 104), (7, 118), (8, 109), (9, 157), (10, 112), (11, 124), (12, 192), (13, 125), (14, 197), (15, 126), (16, 136), (17, 123), (18, 106), (19, 119), (20, 140), (21, 105), (22, 133), (23, 113), (24, 130), (25, 131), (26, 142), (27, 117), (28, 115), (29, 127), (30, 122), (31, 134), (32, 128), (33, 116), (34, 138), (35, 150), (36, 143), (37, 148), (38, 121), (39, 144), (40, 155), (41, 137), (42, 129), (43, 135), (44, 163), (45, 164), (46, 107), (47, 182), (48, 132), (49, 151), (50, 146), (51, 141), (52, 166), (53, 162), (54, 174), (55, 177), (56, 156), (57, 149), (58, 153), (59, 139), (60, 165), (61, 147), (62, 152), (63, 167), (64, 145), (65, 173), (66, 161), (67, 169), (68, 154), (69, 178), (70, 181), (71, 120), (72, 170), (73, 198), (74, 159), (75, 171), (76, 158), (77, 188), (78, 102), (79, 191), (80, 190), (81, 194), (82, 175), (83, 172), (84, 180), (85, 176), (86, 189), (87, 168), (88, 101), (89, 160), (90, 193), (91, 195), (92, 199), (93, 184), (94, 196), (95, 200), (96, 185), (97, 187), (98, 110), (99, 179), (100, 183), (186, 1), (111, 2), (108, 3), (103, 4), (114, 5), (104, 6), (118, 7), (109, 8), (157, 9), (112, 10), (124, 11), (192, 12), (125, 13), (197, 14), (126, 15), (136, 16), (123, 17), (106, 18), (119, 19), (140, 20), (105, 21), (133, 22), (113, 23), (130, 24), (131, 25), (142, 26), (117, 27), (115, 28), (127, 29), (122, 30), (134, 31), (128, 32), (116, 33), (138, 34), (150, 35), (143, 36), (148, 37), (121, 38), (144, 39), (155, 40), (137, 41), (129, 42), (135, 43), (163, 44), (164, 45), (107, 46), (182, 47), (132, 48), (151, 49), (146, 50), (141, 51), (166, 52), (162, 53), (174, 54), (177, 55), (156, 56), (149, 57), (153, 58), (139, 59), (165, 60), (147, 61), (152, 62), (167, 63), (145, 64), (173, 65), (161, 66), (169, 67), (154, 68), (178, 69), (181, 70), (120, 71), (170, 72), (198, 73), (159, 74), (171, 75), (158, 76), (188, 77), (102, 78), (191, 79), (190, 80), (194, 81), (175, 82), (172, 83), (180, 84), (176, 85), (189, 86), (168, 87), (101, 88), (160, 89), (193, 90), (195, 91), (199, 92), (184, 93), (196, 94), (200, 95), (185, 96), (187, 97), (110, 98), (179, 99), (183, 100)])\n",
      "実行時間: 0.0058460235595703125 秒\n"
     ]
    }
   ],
   "source": [
    "matching(random_edges_1)\n",
    "matching(random_edges_2)\n",
    "\n",
    "matching_bipartite(random_edges_1)\n",
    "matching_bipartite(random_edges_2)"
   ]
  },
  {
   "cell_type": "code",
   "execution_count": null,
   "metadata": {},
   "outputs": [],
   "source": []
  }
 ],
 "metadata": {
  "kernelspec": {
   "display_name": "opt",
   "language": "python",
   "name": "python3"
  },
  "language_info": {
   "codemirror_mode": {
    "name": "ipython",
    "version": 3
   },
   "file_extension": ".py",
   "mimetype": "text/x-python",
   "name": "python",
   "nbconvert_exporter": "python",
   "pygments_lexer": "ipython3",
   "version": "3.9.17"
  },
  "orig_nbformat": 4
 },
 "nbformat": 4,
 "nbformat_minor": 2
}

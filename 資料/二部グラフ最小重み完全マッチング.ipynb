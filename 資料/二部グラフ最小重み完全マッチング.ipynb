{
 "cells": [
  {
   "cell_type": "code",
   "execution_count": 22,
   "metadata": {},
   "outputs": [
    {
     "name": "stdout",
     "output_type": "stream",
     "text": [
      "最小重み完全マッチング: {1: 4, 2: 6, 3: 5, 4: 1, 6: 2, 5: 3}\n",
      "実行時間: 0.00028896331787109375 秒\n"
     ]
    }
   ],
   "source": [
    "import networkx as nx\n",
    "import time\n",
    "\n",
    "# 二部グラフを作成\n",
    "G = nx.Graph()\n",
    "\n",
    "# 左の頂点集合を追加\n",
    "left_nodes = [1, 2, 3]\n",
    "G.add_nodes_from(left_nodes, bipartite=0)\n",
    "\n",
    "# 右の頂点集合を追加\n",
    "right_nodes = [4, 5, 6]\n",
    "G.add_nodes_from(right_nodes, bipartite=1)\n",
    "\n",
    "# 重み付きエッジを追加\n",
    "edges = [(1, 4, {'weight': 4}),\n",
    "         (1, 5, {'weight': 2}),\n",
    "         (2, 4, {'weight': 5}),\n",
    "         (2, 6, {'weight': 1}),\n",
    "         (3, 5, {'weight': 3}),\n",
    "         (3, 6, {'weight': 7})]\n",
    "G.add_edges_from(edges)\n",
    "\n",
    "# 時間計測開始\n",
    "start_time = time.time()\n",
    "\n",
    "# 二部グラフの最小重み完全マッチングを求める\n",
    "matching = nx.bipartite.minimum_weight_full_matching(G, weight='weight')\n",
    "\n",
    "# 時間計測終了\n",
    "end_time = time.time()\n",
    "\n",
    "# 結果を表示\n",
    "print(\"最小重み完全マッチング:\", matching)\n",
    "print(\"実行時間:\", end_time - start_time, \"秒\")\n"
   ]
  },
  {
   "cell_type": "code",
   "execution_count": 23,
   "metadata": {},
   "outputs": [
    {
     "name": "stdout",
     "output_type": "stream",
     "text": [
      "最小重みマッチング: {(5, 3), (6, 2), (4, 1)}\n",
      "実行時間: 0.0004699230194091797 秒\n"
     ]
    }
   ],
   "source": [
    "import networkx as nx\n",
    "import time\n",
    "\n",
    "# グラフを作成\n",
    "G = nx.Graph()\n",
    "\n",
    "# 重み付きエッジを追加\n",
    "edges = [(1, 4, {'weight': 4}),\n",
    "         (1, 5, {'weight': 2}),\n",
    "         (2, 4, {'weight': 5}),\n",
    "         (2, 6, {'weight': 1}),\n",
    "         (3, 5, {'weight': 3}),\n",
    "         (4, 6, {'weight': 7})]\n",
    "G.add_edges_from(edges)\n",
    "\n",
    "# 時間計測開始\n",
    "start_time = time.time()\n",
    "\n",
    "# 最大重みマッチングを求める\n",
    "matching = nx.algorithms.max_weight_matching(G, weight='weight', maxcardinality=True)\n",
    "\n",
    "# 時間計測終了\n",
    "end_time = time.time()\n",
    "\n",
    "# 結果を表示\n",
    "print(\"最小重みマッチング:\", matching)\n",
    "print(\"実行時間:\", end_time - start_time, \"秒\")\n"
   ]
  },
  {
   "cell_type": "code",
   "execution_count": 7,
   "metadata": {},
   "outputs": [
    {
     "name": "stdout",
     "output_type": "stream",
     "text": [
      "最小重み最大マッチング: {(5, 3), (6, 2), (1, 4)}\n",
      "総重み: 8\n",
      "実行時間: 0.0003845691680908203 秒\n"
     ]
    }
   ],
   "source": [
    "import networkx as nx\n",
    "import time\n",
    "\n",
    "# グラフを作成\n",
    "G = nx.Graph()\n",
    "\n",
    "# 重み付きエッジを追加\n",
    "# edges = [(1, 4, {'weight': 4}),\n",
    "#          (1, 5, {'weight': 2}),\n",
    "#          (2, 4, {'weight': 5}),\n",
    "#          (2, 5, {'weight': 1}),\n",
    "#          (3, 4, {'weight': 3}),\n",
    "#          (3, 5, {'weight': 7})]\n",
    "edges = [(1, 4, {'weight': 4}),\n",
    "         (1, 5, {'weight': 2}),\n",
    "         (2, 4, {'weight': 5}),\n",
    "         (2, 6, {'weight': 1}),\n",
    "         (3, 5, {'weight': 3}),\n",
    "         (3, 6, {'weight': 7})]\n",
    "G.add_edges_from(edges)\n",
    "\n",
    "# 時間計測開始\n",
    "start_time = time.time()\n",
    "\n",
    "# 最小重み最大マッチングを求める\n",
    "matching = nx.algorithms.matching.min_weight_matching(G, weight='weight')\n",
    "\n",
    "# 時間計測終了\n",
    "end_time = time.time()\n",
    "\n",
    "# マッチングとその総重みを表示\n",
    "total_weight = sum(G[u][v]['weight'] for u, v in matching)\n",
    "print(\"最小重み最大マッチング:\", matching)\n",
    "print(\"総重み:\", total_weight)\n",
    "print(\"実行時間:\", end_time - start_time, \"秒\")\n"
   ]
  },
  {
   "cell_type": "markdown",
   "metadata": {},
   "source": []
  },
  {
   "cell_type": "code",
   "execution_count": 10,
   "metadata": {},
   "outputs": [
    {
     "name": "stdout",
     "output_type": "stream",
     "text": [
      "重みの和: 8\n",
      "二部グラフの最小重み完全マッチング: dict_items([(1, 4), (2, 6), (3, 5), (4, 1), (6, 2), (5, 3)])\n",
      "実行時間: 0.00030422210693359375 秒\n"
     ]
    }
   ],
   "source": [
    "import networkx as nx\n",
    "import time\n",
    "\n",
    "# 二部グラフを作成\n",
    "G_bipartite = nx.Graph()\n",
    "\n",
    "# 左の頂点集合を追加\n",
    "left_nodes = [1, 2, 3]\n",
    "G_bipartite.add_nodes_from(left_nodes, bipartite=0)\n",
    "\n",
    "# 右の頂点集合を追加\n",
    "right_nodes = [4, 5, 6]\n",
    "G_bipartite.add_nodes_from(right_nodes, bipartite=1)\n",
    "\n",
    "# 重み付きエッジを追加\n",
    "# edges_bipartite = [(1, 4, {'weight': 4}),\n",
    "#                    (1, 5, {'weight': 2}),\n",
    "#                    (2, 4, {'weight': 5}),\n",
    "#                    (2, 5, {'weight': 1}),\n",
    "#                    (3, 4, {'weight': 3}),\n",
    "#                    (3, 5, {'weight': 7})]\n",
    "edges_bipartite = [(1, 4, {'weight': 4}),\n",
    "         (1, 5, {'weight': 2}),\n",
    "         (2, 4, {'weight': 5}),\n",
    "         (2, 6, {'weight': 1}),\n",
    "         (3, 5, {'weight': 3}),\n",
    "         (3, 6, {'weight': 7})]\n",
    "G_bipartite.add_edges_from(edges_bipartite)\n",
    "\n",
    "# 時間計測開始\n",
    "start_time_bipartite = time.time()\n",
    "\n",
    "# 二部グラフの最小重み完全マッチングを求める\n",
    "matching_bipartite = nx.bipartite.minimum_weight_full_matching(G).items()\n",
    "\n",
    "# 時間計測終了\n",
    "end_time_bipartite = time.time()\n",
    "\n",
    "# # 重みの和を計算（matching_bipartiteのエッジのみ）\n",
    "# # エッジと重みを表示\n",
    "# for edge, weight in matching_bipartite.items():\n",
    "#     print(f\"エッジ: {edge}, 重み: {weight}\")\n",
    "# total_weight = sum(matching_bipartite.values())\n",
    "\n",
    "\n",
    "# https://stackoverflow.com/questions/73533607/is-there-a-way-to-return-the-edges-used-in-a-minimum-weight-matching-on-a-bipart\n",
    "\n",
    "weight = sum(\n",
    "    G.edges[u, v]['weight']\n",
    "    for u, v in matching_bipartite\n",
    ") // 2\n",
    "print(\"重みの和:\", weight)\n",
    "\n",
    "# 結果を表示\n",
    "print(\"二部グラフの最小重み完全マッチング:\", matching_bipartite)\n",
    "# print(\"重みの和:\", total_weight)\n",
    "print(\"実行時間:\", end_time_bipartite - start_time_bipartite, \"秒\")\n"
   ]
  }
 ],
 "metadata": {
  "kernelspec": {
   "display_name": "opt",
   "language": "python",
   "name": "python3"
  },
  "language_info": {
   "codemirror_mode": {
    "name": "ipython",
    "version": 3
   },
   "file_extension": ".py",
   "mimetype": "text/x-python",
   "name": "python",
   "nbconvert_exporter": "python",
   "pygments_lexer": "ipython3",
   "version": "3.9.17"
  },
  "orig_nbformat": 4
 },
 "nbformat": 4,
 "nbformat_minor": 2
}

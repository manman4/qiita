{
 "cells": [
  {
   "cell_type": "code",
   "execution_count": 247,
   "metadata": {},
   "outputs": [
    {
     "name": "stdout",
     "output_type": "stream",
     "text": [
      "最小重み完全マッチング: {1: 4, 2: 6, 3: 5, 4: 1, 6: 2, 5: 3}\n",
      "実行時間: 0.0016560554504394531 秒\n"
     ]
    }
   ],
   "source": [
    "import networkx as nx\n",
    "import time\n",
    "\n",
    "# 二部グラフを作成\n",
    "G = nx.Graph()\n",
    "\n",
    "# 左の頂点集合を追加\n",
    "left_nodes = [1, 2, 3]\n",
    "G.add_nodes_from(left_nodes, bipartite=0)\n",
    "\n",
    "# 右の頂点集合を追加\n",
    "right_nodes = [4, 5, 6]\n",
    "G.add_nodes_from(right_nodes, bipartite=1)\n",
    "\n",
    "# 重み付きエッジを追加\n",
    "edges = [(1, 4, {'weight': 4}),\n",
    "         (1, 5, {'weight': 2}),\n",
    "         (2, 4, {'weight': 5}),\n",
    "         (2, 6, {'weight': 1}),\n",
    "         (3, 5, {'weight': 3}),\n",
    "         (3, 6, {'weight': 7})]\n",
    "G.add_edges_from(edges)\n",
    "\n",
    "# 時間計測開始\n",
    "start_time = time.time()\n",
    "\n",
    "# 二部グラフの最小重み完全マッチングを求める\n",
    "matching = nx.bipartite.minimum_weight_full_matching(G, weight='weight')\n",
    "\n",
    "# 時間計測終了\n",
    "end_time = time.time()\n",
    "\n",
    "# 結果を表示\n",
    "print(\"最小重み完全マッチング:\", matching)\n",
    "print(\"実行時間:\", end_time - start_time, \"秒\")\n"
   ]
  },
  {
   "cell_type": "code",
   "execution_count": 248,
   "metadata": {},
   "outputs": [
    {
     "name": "stdout",
     "output_type": "stream",
     "text": [
      "最小重みマッチング: {(5, 3), (6, 2), (4, 1)}\n",
      "実行時間: 0.0007810592651367188 秒\n"
     ]
    }
   ],
   "source": [
    "import networkx as nx\n",
    "import time\n",
    "\n",
    "# グラフを作成\n",
    "G = nx.Graph()\n",
    "\n",
    "# 重み付きエッジを追加\n",
    "edges = [(1, 4, {'weight': 4}),\n",
    "         (1, 5, {'weight': 2}),\n",
    "         (2, 4, {'weight': 5}),\n",
    "         (2, 6, {'weight': 1}),\n",
    "         (3, 5, {'weight': 3}),\n",
    "         (4, 6, {'weight': 7})]\n",
    "G.add_edges_from(edges)\n",
    "\n",
    "# 時間計測開始\n",
    "start_time = time.time()\n",
    "\n",
    "# 最大重みマッチングを求める\n",
    "matching = nx.algorithms.max_weight_matching(G, weight='weight', maxcardinality=True)\n",
    "\n",
    "# 時間計測終了\n",
    "end_time = time.time()\n",
    "\n",
    "# 結果を表示\n",
    "print(\"最小重みマッチング:\", matching)\n",
    "print(\"実行時間:\", end_time - start_time, \"秒\")\n"
   ]
  },
  {
   "cell_type": "code",
   "execution_count": 249,
   "metadata": {},
   "outputs": [],
   "source": [
    "import networkx as nx\n",
    "import time\n",
    "\n",
    "def matching(edges):\n",
    "    # グラフを作成\n",
    "    G = nx.Graph()\n",
    "\n",
    "    # 重み付きエッジを追加\n",
    "    G.add_edges_from(edges)\n",
    "\n",
    "    # 時間計測開始\n",
    "    start_time = time.time()\n",
    "\n",
    "    # 最小重み最大マッチングを求める\n",
    "    matching = nx.algorithms.matching.min_weight_matching(G, weight='weight')\n",
    "\n",
    "    # 時間計測終了\n",
    "    end_time = time.time()\n",
    "\n",
    "    # マッチングとその総重みを表示\n",
    "    total_weight = sum(G[u][v]['weight'] for u, v in matching)\n",
    "    print(\"最小重み最大マッチング:\", matching)\n",
    "    print(\"総重み:\", total_weight)\n",
    "    print(\"実行時間:\", end_time - start_time, \"秒\")\n"
   ]
  },
  {
   "cell_type": "code",
   "execution_count": 250,
   "metadata": {},
   "outputs": [],
   "source": [
    "def matching_bipartite(edges):\n",
    "    # 重複なしの1つ目の要素を取得\n",
    "    unique_first_elements = list(set(edge[0] for edge in edges))\n",
    "    # 重複なしの2つ目の要素を取得\n",
    "    unique_second_elements = list(set(edge[1] for edge in edges))\n",
    "\n",
    "    # 二部グラフを作成\n",
    "    G_bipartite = nx.Graph()\n",
    "\n",
    "    # 左の頂点集合を追加\n",
    "    left_nodes = unique_first_elements\n",
    "    G_bipartite.add_nodes_from(left_nodes, bipartite=0)\n",
    "\n",
    "    # 右の頂点集合を追加\n",
    "    right_nodes = unique_second_elements\n",
    "    G_bipartite.add_nodes_from(right_nodes, bipartite=1)\n",
    "\n",
    "    # 重み付きエッジを追加\n",
    "    G_bipartite.add_edges_from(edges)\n",
    "\n",
    "    # 時間計測開始\n",
    "    start_time_bipartite = time.time()\n",
    "\n",
    "    # 二部グラフの最小重み完全マッチングを求める\n",
    "    matching_bipartite = nx.bipartite.minimum_weight_full_matching(G_bipartite).items()\n",
    "\n",
    "    # 時間計測終了\n",
    "    end_time_bipartite = time.time()\n",
    "\n",
    "    # https://stackoverflow.com/questions/73533607/is-there-a-way-to-return-the-edges-used-in-a-minimum-weight-matching-on-a-bipart\n",
    "\n",
    "    weight = sum(\n",
    "        G_bipartite.edges[u, v]['weight']\n",
    "        for u, v in matching_bipartite\n",
    "    ) // 2\n",
    "    print(\"重みの和:\", weight)\n",
    "\n",
    "    # 結果を表示\n",
    "    print(\"二部グラフの最小重み完全マッチング:\", matching_bipartite)\n",
    "    # print(\"重みの和:\", total_weight)\n",
    "    print(\"実行時間:\", end_time_bipartite - start_time_bipartite, \"秒\")\n"
   ]
  },
  {
   "cell_type": "code",
   "execution_count": 251,
   "metadata": {},
   "outputs": [],
   "source": [
    "import random\n",
    "\n",
    "def generate_random_bipartite_graph(nodes_part1, nodes_part2, min_weight, max_weight):\n",
    "    edges = []\n",
    "    \n",
    "    for node1 in nodes_part1:\n",
    "        for node2 in nodes_part2:\n",
    "            weight = random.randint(min_weight, max_weight)\n",
    "            edges.append((node1, node2, {'weight': weight}))\n",
    "    \n",
    "    return edges"
   ]
  },
  {
   "cell_type": "code",
   "execution_count": 252,
   "metadata": {},
   "outputs": [
    {
     "name": "stdout",
     "output_type": "stream",
     "text": [
      "[(1, 11, {'weight': 3}), (1, 12, {'weight': 2}), (1, 13, {'weight': 3}), (1, 14, {'weight': 5}), (1, 15, {'weight': 3}), (1, 16, {'weight': 6}), (1, 17, {'weight': 5}), (1, 18, {'weight': 2}), (1, 19, {'weight': 4}), (1, 20, {'weight': 10}), (2, 11, {'weight': 10}), (2, 12, {'weight': 5}), (2, 13, {'weight': 8}), (2, 14, {'weight': 1}), (2, 15, {'weight': 9}), (2, 16, {'weight': 8}), (2, 17, {'weight': 4}), (2, 18, {'weight': 3}), (2, 19, {'weight': 4}), (2, 20, {'weight': 10}), (3, 11, {'weight': 2}), (3, 12, {'weight': 7}), (3, 13, {'weight': 1}), (3, 14, {'weight': 6}), (3, 15, {'weight': 8}), (3, 16, {'weight': 7}), (3, 17, {'weight': 3}), (3, 18, {'weight': 4}), (3, 19, {'weight': 10}), (3, 20, {'weight': 10}), (4, 11, {'weight': 9}), (4, 12, {'weight': 7}), (4, 13, {'weight': 4}), (4, 14, {'weight': 5}), (4, 15, {'weight': 5}), (4, 16, {'weight': 1}), (4, 17, {'weight': 4}), (4, 18, {'weight': 9}), (4, 19, {'weight': 10}), (4, 20, {'weight': 6}), (5, 11, {'weight': 10}), (5, 12, {'weight': 2}), (5, 13, {'weight': 6}), (5, 14, {'weight': 3}), (5, 15, {'weight': 4}), (5, 16, {'weight': 1}), (5, 17, {'weight': 8}), (5, 18, {'weight': 10}), (5, 19, {'weight': 2}), (5, 20, {'weight': 8}), (6, 11, {'weight': 3}), (6, 12, {'weight': 3}), (6, 13, {'weight': 7}), (6, 14, {'weight': 5}), (6, 15, {'weight': 7}), (6, 16, {'weight': 1}), (6, 17, {'weight': 9}), (6, 18, {'weight': 6}), (6, 19, {'weight': 2}), (6, 20, {'weight': 8}), (7, 11, {'weight': 7}), (7, 12, {'weight': 4}), (7, 13, {'weight': 8}), (7, 14, {'weight': 4}), (7, 15, {'weight': 8}), (7, 16, {'weight': 8}), (7, 17, {'weight': 4}), (7, 18, {'weight': 8}), (7, 19, {'weight': 2}), (7, 20, {'weight': 2}), (8, 11, {'weight': 1}), (8, 12, {'weight': 4}), (8, 13, {'weight': 6}), (8, 14, {'weight': 9}), (8, 15, {'weight': 8}), (8, 16, {'weight': 4}), (8, 17, {'weight': 8}), (8, 18, {'weight': 8}), (8, 19, {'weight': 6}), (8, 20, {'weight': 1}), (9, 11, {'weight': 4}), (9, 12, {'weight': 2}), (9, 13, {'weight': 6}), (9, 14, {'weight': 7}), (9, 15, {'weight': 6}), (9, 16, {'weight': 5}), (9, 17, {'weight': 2}), (9, 18, {'weight': 2}), (9, 19, {'weight': 6}), (9, 20, {'weight': 6}), (10, 11, {'weight': 5}), (10, 12, {'weight': 9}), (10, 13, {'weight': 3}), (10, 14, {'weight': 9}), (10, 15, {'weight': 8}), (10, 16, {'weight': 8}), (10, 17, {'weight': 4}), (10, 18, {'weight': 7}), (10, 19, {'weight': 5}), (10, 20, {'weight': 6})]\n"
     ]
    }
   ],
   "source": [
    "min_weight = 1\n",
    "max_weight = 10\n",
    "\n",
    "nodes_part1 = [i for i in range(1, 11)]\n",
    "nodes_part2 = [i for i in range(11, 21)]\n",
    "random_edges_1 = generate_random_bipartite_graph(nodes_part1, nodes_part2, min_weight, max_weight)\n",
    "\n",
    "# 結果の出力\n",
    "print(random_edges_1)\n",
    "\n",
    "nodes_part3 = [i for i in range(1, 101)]\n",
    "nodes_part4 = [i for i in range(101, 201)]\n",
    "random_edges_2 = generate_random_bipartite_graph(nodes_part3, nodes_part4, min_weight, max_weight)"
   ]
  },
  {
   "cell_type": "code",
   "execution_count": 253,
   "metadata": {},
   "outputs": [
    {
     "name": "stdout",
     "output_type": "stream",
     "text": [
      "最小重み最大マッチング: {(2, 14), (1, 15), (17, 10), (7, 20), (3, 13), (9, 18), (12, 5), (6, 19), (16, 4), (8, 11)}\n",
      "総重み: 19\n",
      "実行時間: 0.0008361339569091797 秒\n",
      "最小重み最大マッチング: {(6, 192), (64, 133), (12, 196), (185, 23), (54, 159), (89, 107), (22, 181), (78, 116), (52, 161), (110, 59), (75, 108), (18, 193), (96, 106), (43, 167), (33, 166), (86, 104), (76, 136), (176, 7), (99, 113), (177, 14), (65, 138), (20, 170), (66, 137), (87, 114), (30, 162), (71, 154), (94, 119), (37, 186), (29, 148), (21, 153), (146, 1), (85, 198), (41, 140), (13, 197), (44, 163), (93, 122), (88, 117), (38, 180), (26, 178), (57, 150), (77, 128), (74, 120), (49, 155), (51, 145), (84, 124), (55, 179), (48, 158), (68, 115), (67, 147), (58, 144), (79, 121), (73, 123), (194, 4), (62, 132), (173, 45), (3, 174), (83, 118), (11, 184), (60, 143), (164, 17), (16, 183), (100, 109), (56, 127), (32, 157), (8, 172), (69, 130), (98, 111), (27, 188), (24, 171), (61, 135), (34, 175), (182, 9), (95, 105), (72, 103), (187, 5), (165, 2), (42, 142), (35, 191), (31, 169), (28, 152), (25, 199), (40, 126), (131, 36), (46, 160), (80, 125), (53, 156), (70, 151), (47, 149), (90, 129), (200, 10), (92, 102), (82, 134), (91, 112), (63, 139), (97, 189), (81, 101), (50, 141), (19, 190), (39, 168), (15, 195)}\n",
      "総重み: 100\n",
      "実行時間: 0.02799820899963379 秒\n",
      "重みの和: 19\n",
      "二部グラフの最小重み完全マッチング: dict_items([(1, 15), (2, 14), (3, 13), (4, 16), (5, 12), (6, 19), (7, 20), (8, 11), (9, 18), (10, 17), (15, 1), (14, 2), (13, 3), (16, 4), (12, 5), (19, 6), (20, 7), (11, 8), (18, 9), (17, 10)])\n",
      "実行時間: 0.0002319812774658203 秒\n",
      "重みの和: 100\n",
      "二部グラフの最小重み完全マッチング: dict_items([(1, 178), (2, 110), (3, 131), (4, 107), (5, 113), (6, 102), (7, 118), (8, 121), (9, 106), (10, 104), (11, 116), (12, 120), (13, 101), (14, 128), (15, 195), (16, 133), (17, 112), (18, 139), (19, 109), (20, 108), (21, 114), (22, 126), (23, 134), (24, 171), (25, 115), (26, 127), (27, 129), (28, 145), (29, 117), (30, 138), (31, 169), (32, 157), (33, 142), (34, 140), (35, 193), (36, 149), (37, 136), (38, 122), (39, 124), (40, 158), (41, 137), (42, 123), (43, 146), (44, 130), (45, 173), (46, 135), (47, 162), (48, 165), (49, 164), (50, 141), (51, 152), (52, 119), (53, 156), (54, 159), (55, 154), (56, 132), (57, 150), (58, 143), (59, 160), (60, 161), (61, 167), (62, 189), (63, 153), (64, 125), (65, 148), (66, 151), (67, 147), (68, 163), (69, 155), (70, 185), (71, 103), (72, 144), (73, 181), (74, 187), (75, 170), (76, 166), (77, 200), (78, 168), (79, 175), (80, 183), (81, 176), (82, 197), (83, 184), (84, 194), (85, 177), (86, 186), (87, 180), (88, 179), (89, 191), (90, 182), (91, 105), (92, 196), (93, 199), (94, 172), (95, 192), (96, 174), (97, 188), (98, 111), (99, 198), (100, 190), (178, 1), (110, 2), (131, 3), (107, 4), (113, 5), (102, 6), (118, 7), (121, 8), (106, 9), (104, 10), (116, 11), (120, 12), (101, 13), (128, 14), (195, 15), (133, 16), (112, 17), (139, 18), (109, 19), (108, 20), (114, 21), (126, 22), (134, 23), (171, 24), (115, 25), (127, 26), (129, 27), (145, 28), (117, 29), (138, 30), (169, 31), (157, 32), (142, 33), (140, 34), (193, 35), (149, 36), (136, 37), (122, 38), (124, 39), (158, 40), (137, 41), (123, 42), (146, 43), (130, 44), (173, 45), (135, 46), (162, 47), (165, 48), (164, 49), (141, 50), (152, 51), (119, 52), (156, 53), (159, 54), (154, 55), (132, 56), (150, 57), (143, 58), (160, 59), (161, 60), (167, 61), (189, 62), (153, 63), (125, 64), (148, 65), (151, 66), (147, 67), (163, 68), (155, 69), (185, 70), (103, 71), (144, 72), (181, 73), (187, 74), (170, 75), (166, 76), (200, 77), (168, 78), (175, 79), (183, 80), (176, 81), (197, 82), (184, 83), (194, 84), (177, 85), (186, 86), (180, 87), (179, 88), (191, 89), (182, 90), (105, 91), (196, 92), (199, 93), (172, 94), (192, 95), (174, 96), (188, 97), (111, 98), (198, 99), (190, 100)])\n",
      "実行時間: 0.005894899368286133 秒\n"
     ]
    }
   ],
   "source": [
    "matching(random_edges_1)\n",
    "matching(random_edges_2)\n",
    "\n",
    "matching_bipartite(random_edges_1)\n",
    "matching_bipartite(random_edges_2)"
   ]
  },
  {
   "cell_type": "code",
   "execution_count": null,
   "metadata": {},
   "outputs": [],
   "source": []
  }
 ],
 "metadata": {
  "kernelspec": {
   "display_name": "opt",
   "language": "python",
   "name": "python3"
  },
  "language_info": {
   "codemirror_mode": {
    "name": "ipython",
    "version": 3
   },
   "file_extension": ".py",
   "mimetype": "text/x-python",
   "name": "python",
   "nbconvert_exporter": "python",
   "pygments_lexer": "ipython3",
   "version": "3.9.17"
  },
  "orig_nbformat": 4
 },
 "nbformat": 4,
 "nbformat_minor": 2
}

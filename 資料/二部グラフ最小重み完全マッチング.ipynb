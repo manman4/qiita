{
 "cells": [
  {
   "cell_type": "code",
   "execution_count": 176,
   "metadata": {},
   "outputs": [
    {
     "name": "stdout",
     "output_type": "stream",
     "text": [
      "最小重み完全マッチング: {1: 4, 2: 6, 3: 5, 4: 1, 6: 2, 5: 3}\n",
      "実行時間: 0.001275777816772461 秒\n"
     ]
    }
   ],
   "source": [
    "import networkx as nx\n",
    "import time\n",
    "\n",
    "# 二部グラフを作成\n",
    "G = nx.Graph()\n",
    "\n",
    "# 左の頂点集合を追加\n",
    "left_nodes = [1, 2, 3]\n",
    "G.add_nodes_from(left_nodes, bipartite=0)\n",
    "\n",
    "# 右の頂点集合を追加\n",
    "right_nodes = [4, 5, 6]\n",
    "G.add_nodes_from(right_nodes, bipartite=1)\n",
    "\n",
    "# 重み付きエッジを追加\n",
    "edges = [(1, 4, {'weight': 4}),\n",
    "         (1, 5, {'weight': 2}),\n",
    "         (2, 4, {'weight': 5}),\n",
    "         (2, 6, {'weight': 1}),\n",
    "         (3, 5, {'weight': 3}),\n",
    "         (3, 6, {'weight': 7})]\n",
    "G.add_edges_from(edges)\n",
    "\n",
    "# 時間計測開始\n",
    "start_time = time.time()\n",
    "\n",
    "# 二部グラフの最小重み完全マッチングを求める\n",
    "matching = nx.bipartite.minimum_weight_full_matching(G, weight='weight')\n",
    "\n",
    "# 時間計測終了\n",
    "end_time = time.time()\n",
    "\n",
    "# 結果を表示\n",
    "print(\"最小重み完全マッチング:\", matching)\n",
    "print(\"実行時間:\", end_time - start_time, \"秒\")\n"
   ]
  },
  {
   "cell_type": "code",
   "execution_count": 177,
   "metadata": {},
   "outputs": [
    {
     "name": "stdout",
     "output_type": "stream",
     "text": [
      "最小重みマッチング: {(5, 3), (6, 2), (4, 1)}\n",
      "実行時間: 0.000347137451171875 秒\n"
     ]
    }
   ],
   "source": [
    "import networkx as nx\n",
    "import time\n",
    "\n",
    "# グラフを作成\n",
    "G = nx.Graph()\n",
    "\n",
    "# 重み付きエッジを追加\n",
    "edges = [(1, 4, {'weight': 4}),\n",
    "         (1, 5, {'weight': 2}),\n",
    "         (2, 4, {'weight': 5}),\n",
    "         (2, 6, {'weight': 1}),\n",
    "         (3, 5, {'weight': 3}),\n",
    "         (4, 6, {'weight': 7})]\n",
    "G.add_edges_from(edges)\n",
    "\n",
    "# 時間計測開始\n",
    "start_time = time.time()\n",
    "\n",
    "# 最大重みマッチングを求める\n",
    "matching = nx.algorithms.max_weight_matching(G, weight='weight', maxcardinality=True)\n",
    "\n",
    "# 時間計測終了\n",
    "end_time = time.time()\n",
    "\n",
    "# 結果を表示\n",
    "print(\"最小重みマッチング:\", matching)\n",
    "print(\"実行時間:\", end_time - start_time, \"秒\")\n"
   ]
  },
  {
   "cell_type": "code",
   "execution_count": 178,
   "metadata": {},
   "outputs": [],
   "source": [
    "edges0 = [(1, 4, {'weight': 4}),\n",
    "         (1, 5, {'weight': 2}),\n",
    "         (2, 4, {'weight': 5}),\n",
    "         (2, 6, {'weight': 1}),\n",
    "         (3, 5, {'weight': 3}),\n",
    "         (3, 6, {'weight': 7})]"
   ]
  },
  {
   "cell_type": "code",
   "execution_count": 179,
   "metadata": {},
   "outputs": [],
   "source": [
    "edges1 = [(1, 10, {'weight': 4}),\n",
    "         (1, 11, {'weight': 2}),\n",
    "         (2, 10, {'weight': 5}),\n",
    "         (2, 12, {'weight': 1}),\n",
    "         (3, 11, {'weight': 3}),\n",
    "         (3, 12, {'weight': 7}),\n",
    "         (4, 10, {'weight': 7}),\n",
    "         (4, 12, {'weight': 4}),\n",
    "         (5, 10, {'weight': 7}),\n",
    "         (5, 13, {'weight': 3}),\n",
    "         ]"
   ]
  },
  {
   "cell_type": "code",
   "execution_count": 180,
   "metadata": {},
   "outputs": [],
   "source": [
    "import networkx as nx\n",
    "import time\n",
    "\n",
    "def matching(edges):\n",
    "    # グラフを作成\n",
    "    G = nx.Graph()\n",
    "\n",
    "    # 重み付きエッジを追加\n",
    "    G.add_edges_from(edges)\n",
    "\n",
    "    # 時間計測開始\n",
    "    start_time = time.time()\n",
    "\n",
    "    # 最小重み最大マッチングを求める\n",
    "    matching = nx.algorithms.matching.min_weight_matching(G, weight='weight')\n",
    "\n",
    "    # 時間計測終了\n",
    "    end_time = time.time()\n",
    "\n",
    "    # マッチングとその総重みを表示\n",
    "    total_weight = sum(G[u][v]['weight'] for u, v in matching)\n",
    "    print(\"最小重み最大マッチング:\", matching)\n",
    "    print(\"総重み:\", total_weight)\n",
    "    print(\"実行時間:\", end_time - start_time, \"秒\")\n"
   ]
  },
  {
   "cell_type": "code",
   "execution_count": 181,
   "metadata": {},
   "outputs": [],
   "source": [
    "def matching_bipartite(edges):\n",
    "    # 重複なしの1つ目の要素を取得\n",
    "    unique_first_elements = list(set(edge[0] for edge in edges))\n",
    "    # 重複なしの2つ目の要素を取得\n",
    "    unique_second_elements = list(set(edge[1] for edge in edges))\n",
    "\n",
    "    # 二部グラフを作成\n",
    "    G_bipartite = nx.Graph()\n",
    "\n",
    "    # 左の頂点集合を追加\n",
    "    left_nodes = unique_first_elements\n",
    "    G_bipartite.add_nodes_from(left_nodes, bipartite=0)\n",
    "\n",
    "    # 右の頂点集合を追加\n",
    "    right_nodes = unique_second_elements\n",
    "    G_bipartite.add_nodes_from(right_nodes, bipartite=1)\n",
    "\n",
    "    # 重み付きエッジを追加\n",
    "    G_bipartite.add_edges_from(edges)\n",
    "\n",
    "    # 時間計測開始\n",
    "    start_time_bipartite = time.time()\n",
    "\n",
    "    # 二部グラフの最小重み完全マッチングを求める\n",
    "    matching_bipartite = nx.bipartite.minimum_weight_full_matching(G_bipartite).items()\n",
    "\n",
    "    # 時間計測終了\n",
    "    end_time_bipartite = time.time()\n",
    "\n",
    "    # https://stackoverflow.com/questions/73533607/is-there-a-way-to-return-the-edges-used-in-a-minimum-weight-matching-on-a-bipart\n",
    "\n",
    "    weight = sum(\n",
    "        G_bipartite.edges[u, v]['weight']\n",
    "        for u, v in matching_bipartite\n",
    "    ) // 2\n",
    "    print(\"重みの和:\", weight)\n",
    "\n",
    "    # 結果を表示\n",
    "    print(\"二部グラフの最小重み完全マッチング:\", matching_bipartite)\n",
    "    # print(\"重みの和:\", total_weight)\n",
    "    print(\"実行時間:\", end_time_bipartite - start_time_bipartite, \"秒\")\n"
   ]
  },
  {
   "cell_type": "code",
   "execution_count": 182,
   "metadata": {},
   "outputs": [
    {
     "name": "stdout",
     "output_type": "stream",
     "text": [
      "最小重み最大マッチング: {(5, 3), (6, 2), (1, 4)}\n",
      "総重み: 8\n",
      "実行時間: 0.000164031982421875 秒\n",
      "最小重み最大マッチング: {(11, 3), (12, 2), (1, 10), (5, 13)}\n",
      "総重み: 11\n",
      "実行時間: 0.00022411346435546875 秒\n",
      "[1, 2, 3]\n",
      "[4, 5, 6]\n",
      "重みの和: 8\n",
      "二部グラフの最小重み完全マッチング: dict_items([(1, 4), (2, 6), (3, 5), (4, 1), (6, 2), (5, 3)])\n",
      "実行時間: 0.00022912025451660156 秒\n",
      "[1, 2, 3, 4, 5]\n",
      "[10, 11, 12, 13]\n",
      "重みの和: 11\n",
      "二部グラフの最小重み完全マッチング: dict_items([(1, 10), (2, 12), (3, 11), (5, 13), (10, 1), (12, 2), (11, 3), (13, 5)])\n",
      "実行時間: 9.799003601074219e-05 秒\n"
     ]
    }
   ],
   "source": [
    "matching(edges0)\n",
    "matching(edges1)\n",
    "\n",
    "matching_bipartite(edges0)\n",
    "matching_bipartite(edges1)"
   ]
  }
 ],
 "metadata": {
  "kernelspec": {
   "display_name": "opt",
   "language": "python",
   "name": "python3"
  },
  "language_info": {
   "codemirror_mode": {
    "name": "ipython",
    "version": 3
   },
   "file_extension": ".py",
   "mimetype": "text/x-python",
   "name": "python",
   "nbconvert_exporter": "python",
   "pygments_lexer": "ipython3",
   "version": "3.9.17"
  },
  "orig_nbformat": 4
 },
 "nbformat": 4,
 "nbformat_minor": 2
}

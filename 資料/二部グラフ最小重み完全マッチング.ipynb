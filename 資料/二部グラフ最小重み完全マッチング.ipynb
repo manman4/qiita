{
 "cells": [
  {
   "cell_type": "code",
   "execution_count": 238,
   "metadata": {},
   "outputs": [
    {
     "name": "stdout",
     "output_type": "stream",
     "text": [
      "最小重み完全マッチング: {1: 4, 2: 6, 3: 5, 4: 1, 6: 2, 5: 3}\n",
      "実行時間: 0.000331878662109375 秒\n"
     ]
    }
   ],
   "source": [
    "import networkx as nx\n",
    "import time\n",
    "\n",
    "# 二部グラフを作成\n",
    "G = nx.Graph()\n",
    "\n",
    "# 左の頂点集合を追加\n",
    "left_nodes = [1, 2, 3]\n",
    "G.add_nodes_from(left_nodes, bipartite=0)\n",
    "\n",
    "# 右の頂点集合を追加\n",
    "right_nodes = [4, 5, 6]\n",
    "G.add_nodes_from(right_nodes, bipartite=1)\n",
    "\n",
    "# 重み付きエッジを追加\n",
    "edges = [(1, 4, {'weight': 4}),\n",
    "         (1, 5, {'weight': 2}),\n",
    "         (2, 4, {'weight': 5}),\n",
    "         (2, 6, {'weight': 1}),\n",
    "         (3, 5, {'weight': 3}),\n",
    "         (3, 6, {'weight': 7})]\n",
    "G.add_edges_from(edges)\n",
    "\n",
    "# 時間計測開始\n",
    "start_time = time.time()\n",
    "\n",
    "# 二部グラフの最小重み完全マッチングを求める\n",
    "matching = nx.bipartite.minimum_weight_full_matching(G, weight='weight')\n",
    "\n",
    "# 時間計測終了\n",
    "end_time = time.time()\n",
    "\n",
    "# 結果を表示\n",
    "print(\"最小重み完全マッチング:\", matching)\n",
    "print(\"実行時間:\", end_time - start_time, \"秒\")\n"
   ]
  },
  {
   "cell_type": "code",
   "execution_count": 239,
   "metadata": {},
   "outputs": [
    {
     "name": "stdout",
     "output_type": "stream",
     "text": [
      "最小重みマッチング: {(5, 3), (6, 2), (4, 1)}\n",
      "実行時間: 0.00026988983154296875 秒\n"
     ]
    }
   ],
   "source": [
    "import networkx as nx\n",
    "import time\n",
    "\n",
    "# グラフを作成\n",
    "G = nx.Graph()\n",
    "\n",
    "# 重み付きエッジを追加\n",
    "edges = [(1, 4, {'weight': 4}),\n",
    "         (1, 5, {'weight': 2}),\n",
    "         (2, 4, {'weight': 5}),\n",
    "         (2, 6, {'weight': 1}),\n",
    "         (3, 5, {'weight': 3}),\n",
    "         (4, 6, {'weight': 7})]\n",
    "G.add_edges_from(edges)\n",
    "\n",
    "# 時間計測開始\n",
    "start_time = time.time()\n",
    "\n",
    "# 最大重みマッチングを求める\n",
    "matching = nx.algorithms.max_weight_matching(G, weight='weight', maxcardinality=True)\n",
    "\n",
    "# 時間計測終了\n",
    "end_time = time.time()\n",
    "\n",
    "# 結果を表示\n",
    "print(\"最小重みマッチング:\", matching)\n",
    "print(\"実行時間:\", end_time - start_time, \"秒\")\n"
   ]
  },
  {
   "cell_type": "code",
   "execution_count": 240,
   "metadata": {},
   "outputs": [],
   "source": [
    "import networkx as nx\n",
    "import time\n",
    "\n",
    "def matching(edges):\n",
    "    # グラフを作成\n",
    "    G = nx.Graph()\n",
    "\n",
    "    # 重み付きエッジを追加\n",
    "    G.add_edges_from(edges)\n",
    "\n",
    "    # 時間計測開始\n",
    "    start_time = time.time()\n",
    "\n",
    "    # 最小重み最大マッチングを求める\n",
    "    matching = nx.algorithms.matching.min_weight_matching(G, weight='weight')\n",
    "\n",
    "    # 時間計測終了\n",
    "    end_time = time.time()\n",
    "\n",
    "    # マッチングとその総重みを表示\n",
    "    total_weight = sum(G[u][v]['weight'] for u, v in matching)\n",
    "    print(\"最小重み最大マッチング:\", matching)\n",
    "    print(\"総重み:\", total_weight)\n",
    "    print(\"実行時間:\", end_time - start_time, \"秒\")\n"
   ]
  },
  {
   "cell_type": "code",
   "execution_count": 241,
   "metadata": {},
   "outputs": [],
   "source": [
    "def matching_bipartite(edges):\n",
    "    # 重複なしの1つ目の要素を取得\n",
    "    unique_first_elements = list(set(edge[0] for edge in edges))\n",
    "    # 重複なしの2つ目の要素を取得\n",
    "    unique_second_elements = list(set(edge[1] for edge in edges))\n",
    "\n",
    "    # 二部グラフを作成\n",
    "    G_bipartite = nx.Graph()\n",
    "\n",
    "    # 左の頂点集合を追加\n",
    "    left_nodes = unique_first_elements\n",
    "    G_bipartite.add_nodes_from(left_nodes, bipartite=0)\n",
    "\n",
    "    # 右の頂点集合を追加\n",
    "    right_nodes = unique_second_elements\n",
    "    G_bipartite.add_nodes_from(right_nodes, bipartite=1)\n",
    "\n",
    "    # 重み付きエッジを追加\n",
    "    G_bipartite.add_edges_from(edges)\n",
    "\n",
    "    # 時間計測開始\n",
    "    start_time_bipartite = time.time()\n",
    "\n",
    "    # 二部グラフの最小重み完全マッチングを求める\n",
    "    matching_bipartite = nx.bipartite.minimum_weight_full_matching(G_bipartite).items()\n",
    "\n",
    "    # 時間計測終了\n",
    "    end_time_bipartite = time.time()\n",
    "\n",
    "    # https://stackoverflow.com/questions/73533607/is-there-a-way-to-return-the-edges-used-in-a-minimum-weight-matching-on-a-bipart\n",
    "\n",
    "    weight = sum(\n",
    "        G_bipartite.edges[u, v]['weight']\n",
    "        for u, v in matching_bipartite\n",
    "    ) // 2\n",
    "    print(\"重みの和:\", weight)\n",
    "\n",
    "    # 結果を表示\n",
    "    print(\"二部グラフの最小重み完全マッチング:\", matching_bipartite)\n",
    "    # print(\"重みの和:\", total_weight)\n",
    "    print(\"実行時間:\", end_time_bipartite - start_time_bipartite, \"秒\")\n"
   ]
  },
  {
   "cell_type": "code",
   "execution_count": 242,
   "metadata": {},
   "outputs": [],
   "source": [
    "edges0 = [(1, 4, {'weight': 4}),\n",
    "         (1, 5, {'weight': 2}),\n",
    "         (2, 4, {'weight': 5}),\n",
    "         (2, 6, {'weight': 1}),\n",
    "         (3, 5, {'weight': 3}),\n",
    "         (3, 6, {'weight': 7})]"
   ]
  },
  {
   "cell_type": "code",
   "execution_count": 243,
   "metadata": {},
   "outputs": [],
   "source": [
    "edges1 = [(1, 10, {'weight': 4}),\n",
    "         (1, 11, {'weight': 2}),\n",
    "         (2, 10, {'weight': 5}),\n",
    "         (2, 12, {'weight': 1}),\n",
    "         (3, 11, {'weight': 3}),\n",
    "         (3, 12, {'weight': 7}),\n",
    "         (4, 10, {'weight': 7}),\n",
    "         (4, 12, {'weight': 4}),\n",
    "         (5, 10, {'weight': 7}),\n",
    "         (5, 13, {'weight': 3}),\n",
    "         ]"
   ]
  },
  {
   "cell_type": "code",
   "execution_count": 244,
   "metadata": {},
   "outputs": [],
   "source": [
    "import random\n",
    "\n",
    "def generate_random_bipartite_graph(nodes_part1, nodes_part2, min_weight, max_weight):\n",
    "    edges = []\n",
    "    \n",
    "    for node1 in nodes_part1:\n",
    "        for node2 in nodes_part2:\n",
    "            weight = random.randint(min_weight, max_weight)\n",
    "            edges.append((node1, node2, {'weight': weight}))\n",
    "    \n",
    "    return edges"
   ]
  },
  {
   "cell_type": "code",
   "execution_count": 245,
   "metadata": {},
   "outputs": [
    {
     "name": "stdout",
     "output_type": "stream",
     "text": [
      "[(1, 11, {'weight': 6}), (1, 12, {'weight': 5}), (1, 13, {'weight': 3}), (1, 14, {'weight': 10}), (1, 15, {'weight': 5}), (1, 16, {'weight': 9}), (1, 17, {'weight': 3}), (1, 18, {'weight': 9}), (1, 19, {'weight': 1}), (1, 20, {'weight': 4}), (2, 11, {'weight': 10}), (2, 12, {'weight': 7}), (2, 13, {'weight': 6}), (2, 14, {'weight': 9}), (2, 15, {'weight': 5}), (2, 16, {'weight': 4}), (2, 17, {'weight': 10}), (2, 18, {'weight': 7}), (2, 19, {'weight': 7}), (2, 20, {'weight': 1}), (3, 11, {'weight': 7}), (3, 12, {'weight': 5}), (3, 13, {'weight': 9}), (3, 14, {'weight': 7}), (3, 15, {'weight': 3}), (3, 16, {'weight': 2}), (3, 17, {'weight': 9}), (3, 18, {'weight': 2}), (3, 19, {'weight': 3}), (3, 20, {'weight': 7}), (4, 11, {'weight': 6}), (4, 12, {'weight': 1}), (4, 13, {'weight': 7}), (4, 14, {'weight': 5}), (4, 15, {'weight': 2}), (4, 16, {'weight': 7}), (4, 17, {'weight': 4}), (4, 18, {'weight': 3}), (4, 19, {'weight': 10}), (4, 20, {'weight': 6}), (5, 11, {'weight': 4}), (5, 12, {'weight': 4}), (5, 13, {'weight': 7}), (5, 14, {'weight': 10}), (5, 15, {'weight': 2}), (5, 16, {'weight': 5}), (5, 17, {'weight': 5}), (5, 18, {'weight': 10}), (5, 19, {'weight': 4}), (5, 20, {'weight': 10}), (6, 11, {'weight': 10}), (6, 12, {'weight': 2}), (6, 13, {'weight': 7}), (6, 14, {'weight': 10}), (6, 15, {'weight': 4}), (6, 16, {'weight': 4}), (6, 17, {'weight': 3}), (6, 18, {'weight': 2}), (6, 19, {'weight': 6}), (6, 20, {'weight': 4}), (7, 11, {'weight': 3}), (7, 12, {'weight': 8}), (7, 13, {'weight': 3}), (7, 14, {'weight': 5}), (7, 15, {'weight': 6}), (7, 16, {'weight': 9}), (7, 17, {'weight': 1}), (7, 18, {'weight': 2}), (7, 19, {'weight': 8}), (7, 20, {'weight': 5}), (8, 11, {'weight': 6}), (8, 12, {'weight': 9}), (8, 13, {'weight': 5}), (8, 14, {'weight': 2}), (8, 15, {'weight': 1}), (8, 16, {'weight': 4}), (8, 17, {'weight': 1}), (8, 18, {'weight': 1}), (8, 19, {'weight': 9}), (8, 20, {'weight': 7}), (9, 11, {'weight': 2}), (9, 12, {'weight': 1}), (9, 13, {'weight': 6}), (9, 14, {'weight': 3}), (9, 15, {'weight': 1}), (9, 16, {'weight': 3}), (9, 17, {'weight': 1}), (9, 18, {'weight': 1}), (9, 19, {'weight': 6}), (9, 20, {'weight': 6}), (10, 11, {'weight': 10}), (10, 12, {'weight': 8}), (10, 13, {'weight': 4}), (10, 14, {'weight': 3}), (10, 15, {'weight': 4}), (10, 16, {'weight': 10}), (10, 17, {'weight': 3}), (10, 18, {'weight': 4}), (10, 19, {'weight': 1}), (10, 20, {'weight': 10})]\n"
     ]
    }
   ],
   "source": [
    "min_weight = 1\n",
    "max_weight = 10\n",
    "\n",
    "nodes_part1 = [i for i in range(1, 11)]\n",
    "nodes_part2 = [i for i in range(11, 21)]\n",
    "random_edges_1 = generate_random_bipartite_graph(nodes_part1, nodes_part2, min_weight, max_weight)\n",
    "\n",
    "# 結果の出力\n",
    "print(random_edges_1)\n",
    "\n",
    "nodes_part3 = [i for i in range(1, 101)]\n",
    "nodes_part4 = [i for i in range(101, 201)]\n",
    "random_edges_2 = generate_random_bipartite_graph(nodes_part3, nodes_part4, min_weight, max_weight)"
   ]
  },
  {
   "cell_type": "code",
   "execution_count": 246,
   "metadata": {},
   "outputs": [
    {
     "name": "stdout",
     "output_type": "stream",
     "text": [
      "最小重み最大マッチング: {(12, 4), (15, 5), (8, 14), (7, 17), (13, 1), (2, 20), (16, 3), (18, 6), (10, 19), (9, 11)}\n",
      "総重み: 17\n",
      "実行時間: 0.0006201267242431641 秒\n",
      "最小重み最大マッチング: {(169, 24), (96, 104), (38, 151), (70, 128), (41, 177), (83, 131), (82, 111), (156, 5), (12, 162), (58, 159), (172, 13), (18, 193), (32, 167), (36, 192), (53, 153), (160, 14), (84, 107), (60, 158), (87, 176), (79, 138), (55, 180), (40, 155), (122, 71), (66, 137), (133, 56), (17, 174), (90, 103), (31, 136), (85, 116), (51, 178), (197, 3), (11, 185), (52, 140), (179, 7), (187, 20), (27, 168), (99, 181), (68, 120), (21, 173), (23, 170), (73, 119), (194, 9), (88, 110), (95, 121), (47, 200), (74, 129), (78, 145), (15, 171), (117, 57), (148, 35), (182, 37), (33, 149), (146, 44), (157, 19), (75, 130), (115, 1), (89, 101), (64, 166), (147, 8), (16, 199), (30, 161), (34, 198), (46, 163), (22, 196), (98, 109), (28, 191), (61, 142), (59, 154), (91, 106), (49, 143), (81, 113), (62, 164), (76, 126), (42, 195), (26, 186), (93, 105), (77, 118), (43, 150), (175, 4), (80, 114), (63, 144), (184, 25), (189, 39), (10, 183), (48, 139), (97, 123), (29, 190), (54, 134), (92, 127), (45, 152), (67, 112), (94, 108), (100, 124), (86, 125), (72, 135), (188, 2), (50, 141), (165, 6), (65, 132), (69, 102)}\n",
      "総重み: 100\n",
      "実行時間: 0.029488801956176758 秒\n",
      "重みの和: 17\n",
      "二部グラフの最小重み完全マッチング: dict_items([(1, 13), (2, 20), (3, 16), (4, 12), (5, 15), (6, 18), (7, 17), (8, 14), (9, 11), (10, 19), (13, 1), (20, 2), (16, 3), (12, 4), (15, 5), (18, 6), (17, 7), (14, 8), (11, 9), (19, 10)])\n",
      "実行時間: 0.00020813941955566406 秒\n",
      "重みの和: 100\n",
      "二部グラフの最小重み完全マッチング: dict_items([(1, 115), (2, 109), (3, 122), (4, 107), (5, 123), (6, 102), (7, 144), (8, 101), (9, 189), (10, 119), (11, 113), (12, 114), (13, 104), (14, 110), (15, 106), (16, 112), (17, 116), (18, 118), (19, 108), (20, 200), (21, 124), (22, 155), (23, 151), (24, 127), (25, 128), (26, 121), (27, 117), (28, 131), (29, 136), (30, 133), (31, 130), (32, 167), (33, 149), (34, 137), (35, 135), (36, 138), (37, 132), (38, 142), (39, 165), (40, 120), (41, 141), (42, 111), (43, 150), (44, 129), (45, 125), (46, 139), (47, 143), (48, 157), (49, 158), (50, 193), (51, 140), (52, 146), (53, 153), (54, 134), (55, 187), (56, 103), (57, 190), (58, 145), (59, 154), (60, 126), (61, 166), (62, 164), (63, 179), (64, 148), (65, 195), (66, 163), (67, 172), (68, 197), (69, 170), (70, 159), (71, 182), (72, 160), (73, 177), (74, 147), (75, 183), (76, 175), (77, 169), (78, 188), (79, 186), (80, 168), (81, 152), (82, 174), (83, 156), (84, 192), (85, 178), (86, 162), (87, 176), (88, 171), (89, 199), (90, 173), (91, 184), (92, 185), (93, 161), (94, 191), (95, 196), (96, 105), (97, 180), (98, 198), (99, 181), (100, 194), (115, 1), (109, 2), (122, 3), (107, 4), (123, 5), (102, 6), (144, 7), (101, 8), (189, 9), (119, 10), (113, 11), (114, 12), (104, 13), (110, 14), (106, 15), (112, 16), (116, 17), (118, 18), (108, 19), (200, 20), (124, 21), (155, 22), (151, 23), (127, 24), (128, 25), (121, 26), (117, 27), (131, 28), (136, 29), (133, 30), (130, 31), (167, 32), (149, 33), (137, 34), (135, 35), (138, 36), (132, 37), (142, 38), (165, 39), (120, 40), (141, 41), (111, 42), (150, 43), (129, 44), (125, 45), (139, 46), (143, 47), (157, 48), (158, 49), (193, 50), (140, 51), (146, 52), (153, 53), (134, 54), (187, 55), (103, 56), (190, 57), (145, 58), (154, 59), (126, 60), (166, 61), (164, 62), (179, 63), (148, 64), (195, 65), (163, 66), (172, 67), (197, 68), (170, 69), (159, 70), (182, 71), (160, 72), (177, 73), (147, 74), (183, 75), (175, 76), (169, 77), (188, 78), (186, 79), (168, 80), (152, 81), (174, 82), (156, 83), (192, 84), (178, 85), (162, 86), (176, 87), (171, 88), (199, 89), (173, 90), (184, 91), (185, 92), (161, 93), (191, 94), (196, 95), (105, 96), (180, 97), (198, 98), (181, 99), (194, 100)])\n",
      "実行時間: 0.006428956985473633 秒\n"
     ]
    }
   ],
   "source": [
    "# matching(edges0)\n",
    "# matching(edges1)\n",
    "matching(random_edges_1)\n",
    "matching(random_edges_2)\n",
    "\n",
    "# matching_bipartite(edges0)\n",
    "# matching_bipartite(edges1)\n",
    "matching_bipartite(random_edges_1)\n",
    "matching_bipartite(random_edges_2)"
   ]
  },
  {
   "cell_type": "code",
   "execution_count": null,
   "metadata": {},
   "outputs": [],
   "source": []
  }
 ],
 "metadata": {
  "kernelspec": {
   "display_name": "opt",
   "language": "python",
   "name": "python3"
  },
  "language_info": {
   "codemirror_mode": {
    "name": "ipython",
    "version": 3
   },
   "file_extension": ".py",
   "mimetype": "text/x-python",
   "name": "python",
   "nbconvert_exporter": "python",
   "pygments_lexer": "ipython3",
   "version": "3.9.17"
  },
  "orig_nbformat": 4
 },
 "nbformat": 4,
 "nbformat_minor": 2
}

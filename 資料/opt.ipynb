{
 "cells": [
  {
   "cell_type": "code",
   "execution_count": 9,
   "metadata": {},
   "outputs": [
    {
     "name": "stdout",
     "output_type": "stream",
     "text": [
      "Welcome to the CBC MILP Solver \n",
      "Version: 2.10.3 \n",
      "Build Date: Dec 15 2019 \n",
      "\n",
      "command line - /Users/s_manyama/anaconda3/envs/opt/lib/python3.9/site-packages/pulp/solverdir/cbc/osx/64/cbc /var/folders/qd/7t42cxgs1kxb2s5_sm6wq79w0000gn/T/9b931e4ecf354a53aedfe550211e063a-pulp.mps timeMode elapsed branch printingOptions all solution /var/folders/qd/7t42cxgs1kxb2s5_sm6wq79w0000gn/T/9b931e4ecf354a53aedfe550211e063a-pulp.sol (default strategy 1)\n",
      "At line 2 NAME          MODEL\n",
      "At line 3 ROWS\n",
      "At line 7 COLUMNS\n",
      "At line 13 RHS\n",
      "At line 16 BOUNDS\n",
      "At line 18 ENDATA\n",
      "Problem MODEL has 2 rows, 3 columns and 4 elements\n",
      "Coin0008I MODEL read with 0 errors\n",
      "Option for timeMode changed from cpu to elapsed\n",
      "Presolve 0 (-2) rows, 0 (-3) columns and 0 (-4) elements\n",
      "Empty problem - 0 rows, 0 columns and 0 elements\n",
      "Optimal - objective value 0\n",
      "After Postsolve, objective 0, infeasibilities - dual 0 (0), primal 0 (0)\n",
      "Optimal objective 0 - 0 iterations time 0.002, Presolve 0.00\n",
      "Option for printingOptions changed from normal to all\n",
      "Total time (CPU seconds):       0.00   (Wallclock seconds):       0.01\n",
      "\n",
      "Optimal\n",
      "1.0 2.0\n"
     ]
    }
   ],
   "source": [
    "import pulp\n",
    "\n",
    "# 問題の宣言\n",
    "problem = pulp.LpProblem('test', pulp.LpMinimize)\n",
    "\n",
    "# 変数の宣言\n",
    "x = pulp.LpVariable('x', lowBound=0)\n",
    "y = pulp.LpVariable('y', lowBound=0)\n",
    "\n",
    "# 制約条件の宣言\n",
    "problem += 2 * x + 3 * y == 8\n",
    "problem += 4 * x + 5 * y == 14\n",
    "\n",
    "# 解く\n",
    "status = problem.solve()\n",
    "\n",
    "# 結果の表示\n",
    "print(pulp.LpStatus[status])\n",
    "print(x.value(), y.value())"
   ]
  }
 ],
 "metadata": {
  "kernelspec": {
   "display_name": "base",
   "language": "python",
   "name": "python3"
  },
  "language_info": {
   "codemirror_mode": {
    "name": "ipython",
    "version": 3
   },
   "file_extension": ".py",
   "mimetype": "text/x-python",
   "name": "python",
   "nbconvert_exporter": "python",
   "pygments_lexer": "ipython3",
   "version": "3.9.17"
  },
  "orig_nbformat": 4
 },
 "nbformat": 4,
 "nbformat_minor": 2
}
